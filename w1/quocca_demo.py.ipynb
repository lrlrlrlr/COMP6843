{
 "cells": [
  {
   "cell_type": "code",
   "execution_count": 2,
   "metadata": {},
   "outputs": [],
   "source": [
    "# quoccabank redirect problem\n",
    "# use Client Side Certificates with requests\n",
    "\n",
    "import requests\n",
    "url = 'https://kb.quoccabank.com'"
   ]
  },
  {
   "cell_type": "code",
   "execution_count": 3,
   "metadata": {},
   "outputs": [
    {
     "data": {
      "text/plain": [
       "'https://login.quoccabank.com/?return_url=https%3A%2F%2Fkb.quoccabank.com%2F'"
      ]
     },
     "execution_count": 3,
     "metadata": {},
     "output_type": "execute_result"
    }
   ],
   "source": [
    "r = requests.get(url)\n",
    "r.url"
   ]
  },
  {
   "cell_type": "code",
   "execution_count": null,
   "metadata": {},
   "outputs": [],
   "source": [
    "r = requests.get(url, cert=('client.crt', 'clien.key'))\n",
    "'''\n",
    "file-->6443.p12\n",
    "psw--->\"*******************\"\n",
    "'''"
   ]
  },
  {
   "cell_type": "code",
   "execution_count": 4,
   "metadata": {},
   "outputs": [],
   "source": [
    "from ca import certificate_path, certpw\n",
    "from OpenSSL import crypto\n",
    "\n",
    "def load_cert():\n",
    "    # ref: https://stackoverflow.com/questions/49163100/p12-cert-authenticate-python\n",
    "    # create pem file from p12\n",
    "    p12 = crypto.load_pkcs12(open(certificate_path, 'rb').read(), certpw.encode())\n",
    "\n",
    "    # PEM formatted private key\n",
    "    k = crypto.dump_privatekey(crypto.FILETYPE_PEM, p12.get_privatekey())\n",
    "    fkey = open('myKey.key', 'wb')\n",
    "    fkey.write(k)\n",
    "    fkey.close()\n",
    "\n",
    "    # PEM formatted certificate\n",
    "    c = crypto.dump_certificate(crypto.FILETYPE_PEM, p12.get_certificate())\n",
    "    fcert = open('myCert.crt', 'wb')\n",
    "    fcert.write(c)\n",
    "    fcert.close()\n"
   ]
  },
  {
   "cell_type": "code",
   "execution_count": 5,
   "metadata": {},
   "outputs": [],
   "source": [
    "load_cert()"
   ]
  },
  {
   "cell_type": "code",
   "execution_count": 9,
   "metadata": {},
   "outputs": [],
   "source": [
    "r = requests.get(\"https://haas.quoccabank.com/\", cert=('myCert.crt', 'myKey.key'))"
   ]
  },
  {
   "cell_type": "code",
   "execution_count": 10,
   "metadata": {},
   "outputs": [
    {
     "data": {
      "text/plain": [
       "<Response [200]>"
      ]
     },
     "execution_count": 10,
     "metadata": {},
     "output_type": "execute_result"
    }
   ],
   "source": [
    "r"
   ]
  },
  {
   "cell_type": "code",
   "execution_count": 11,
   "metadata": {},
   "outputs": [
    {
     "data": {
      "text/plain": [
       "'<h1>haas - http as a service</h1>Use this service to access kb.quoccabank.com<form method=\"POST\"><textarea cols=\"100\" rows=\"30\" name=\"request\" placeholder=\"Write your HTTP request to kb.quoccabank.com here\"></textarea><input type=\"submit\" value=\"Send\"/></form>'"
      ]
     },
     "execution_count": 11,
     "metadata": {},
     "output_type": "execute_result"
    }
   ],
   "source": [
    "r.text"
   ]
  },
  {
   "cell_type": "code",
   "execution_count": 12,
   "metadata": {},
   "outputs": [
    {
     "data": {
      "text/plain": [
       "'https://haas.quoccabank.com/'"
      ]
     },
     "execution_count": 12,
     "metadata": {},
     "output_type": "execute_result"
    }
   ],
   "source": [
    "r.url"
   ]
  },
  {
   "cell_type": "code",
   "execution_count": null,
   "metadata": {},
   "outputs": [],
   "source": []
  }
 ],
 "metadata": {
  "kernelspec": {
   "display_name": "Python 3",
   "language": "python",
   "name": "python3"
  },
  "language_info": {
   "codemirror_mode": {
    "name": "ipython",
    "version": 3
   },
   "file_extension": ".py",
   "mimetype": "text/x-python",
   "name": "python",
   "nbconvert_exporter": "python",
   "pygments_lexer": "ipython3",
   "version": "3.7.3"
  }
 },
 "nbformat": 4,
 "nbformat_minor": 2
}
